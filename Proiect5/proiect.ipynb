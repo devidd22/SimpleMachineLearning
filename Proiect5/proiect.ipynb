{
 "cells": [
  {
   "cell_type": "markdown",
   "metadata": {},
   "source": [
    "<h1>Importarea modulelor care ne ajuta la analizarea setului de date + vizualizarea mai usoara a acestora</h1>"
   ]
  },
  {
   "cell_type": "code",
   "execution_count": 22,
   "metadata": {},
   "outputs": [],
   "source": [
    "#module care ne ajuta la analizarea setului de date\n",
    "import numpy as np\n",
    "import pandas as pd\n",
    "\n",
    "#module care ne ajuta la vizualizarea mai usoara a setului de date\n",
    "import matplotlib.pyplot as plt\n",
    "import seaborn as sns"
   ]
  },
  {
   "cell_type": "markdown",
   "metadata": {},
   "source": [
    "<h3>Vizualizarea setului de date + salvarea acestuia sub forma unui DataSet"
   ]
  },
  {
   "cell_type": "code",
   "execution_count": 23,
   "metadata": {},
   "outputs": [
    {
     "data": {
      "text/html": [
       "<div>\n",
       "<style scoped>\n",
       "    .dataframe tbody tr th:only-of-type {\n",
       "        vertical-align: middle;\n",
       "    }\n",
       "\n",
       "    .dataframe tbody tr th {\n",
       "        vertical-align: top;\n",
       "    }\n",
       "\n",
       "    .dataframe thead th {\n",
       "        text-align: right;\n",
       "    }\n",
       "</style>\n",
       "<table border=\"1\" class=\"dataframe\">\n",
       "  <thead>\n",
       "    <tr style=\"text-align: right;\">\n",
       "      <th></th>\n",
       "      <th>X</th>\n",
       "      <th>Y</th>\n",
       "    </tr>\n",
       "  </thead>\n",
       "  <tbody>\n",
       "    <tr>\n",
       "      <th>0</th>\n",
       "      <td>1</td>\n",
       "      <td>3.888889</td>\n",
       "    </tr>\n",
       "    <tr>\n",
       "      <th>1</th>\n",
       "      <td>2</td>\n",
       "      <td>4.555556</td>\n",
       "    </tr>\n",
       "    <tr>\n",
       "      <th>2</th>\n",
       "      <td>3</td>\n",
       "      <td>5.222222</td>\n",
       "    </tr>\n",
       "    <tr>\n",
       "      <th>3</th>\n",
       "      <td>4</td>\n",
       "      <td>5.888889</td>\n",
       "    </tr>\n",
       "    <tr>\n",
       "      <th>4</th>\n",
       "      <td>5</td>\n",
       "      <td>6.555556</td>\n",
       "    </tr>\n",
       "  </tbody>\n",
       "</table>\n",
       "</div>"
      ],
      "text/plain": [
       "   X         Y\n",
       "0  1  3.888889\n",
       "1  2  4.555556\n",
       "2  3  5.222222\n",
       "3  4  5.888889\n",
       "4  5  6.555556"
      ]
     },
     "execution_count": 23,
     "metadata": {},
     "output_type": "execute_result"
    }
   ],
   "source": [
    "df = pd.read_csv('lol.csv')\n",
    "df.head()"
   ]
  },
  {
   "cell_type": "code",
   "execution_count": 24,
   "metadata": {},
   "outputs": [
    {
     "data": {
      "text/plain": [
       "<bound method DataFrame.info of        X           Y\n",
       "0      1    3.888889\n",
       "1      2    4.555556\n",
       "2      3    5.222222\n",
       "3      4    5.888889\n",
       "4      5    6.555556\n",
       "..   ...         ...\n",
       "295  296  200.555556\n",
       "296  297  201.222222\n",
       "297  298  201.888889\n",
       "298  299    1.888889\n",
       "299  300    1.888889\n",
       "\n",
       "[300 rows x 2 columns]>"
      ]
     },
     "execution_count": 24,
     "metadata": {},
     "output_type": "execute_result"
    }
   ],
   "source": [
    "df.info"
   ]
  },
  {
   "cell_type": "code",
   "execution_count": 25,
   "metadata": {},
   "outputs": [
    {
     "data": {
      "text/html": [
       "<div>\n",
       "<style scoped>\n",
       "    .dataframe tbody tr th:only-of-type {\n",
       "        vertical-align: middle;\n",
       "    }\n",
       "\n",
       "    .dataframe tbody tr th {\n",
       "        vertical-align: top;\n",
       "    }\n",
       "\n",
       "    .dataframe thead th {\n",
       "        text-align: right;\n",
       "    }\n",
       "</style>\n",
       "<table border=\"1\" class=\"dataframe\">\n",
       "  <thead>\n",
       "    <tr style=\"text-align: right;\">\n",
       "      <th></th>\n",
       "      <th>X</th>\n",
       "      <th>Y</th>\n",
       "    </tr>\n",
       "  </thead>\n",
       "  <tbody>\n",
       "    <tr>\n",
       "      <th>count</th>\n",
       "      <td>300.000000</td>\n",
       "      <td>300.000000</td>\n",
       "    </tr>\n",
       "    <tr>\n",
       "      <th>mean</th>\n",
       "      <td>150.500000</td>\n",
       "      <td>102.215556</td>\n",
       "    </tr>\n",
       "    <tr>\n",
       "      <th>std</th>\n",
       "      <td>86.746758</td>\n",
       "      <td>57.842711</td>\n",
       "    </tr>\n",
       "    <tr>\n",
       "      <th>min</th>\n",
       "      <td>1.000000</td>\n",
       "      <td>1.888889</td>\n",
       "    </tr>\n",
       "    <tr>\n",
       "      <th>25%</th>\n",
       "      <td>75.750000</td>\n",
       "      <td>52.388889</td>\n",
       "    </tr>\n",
       "    <tr>\n",
       "      <th>50%</th>\n",
       "      <td>150.500000</td>\n",
       "      <td>102.222222</td>\n",
       "    </tr>\n",
       "    <tr>\n",
       "      <th>75%</th>\n",
       "      <td>225.250000</td>\n",
       "      <td>152.055556</td>\n",
       "    </tr>\n",
       "    <tr>\n",
       "      <th>max</th>\n",
       "      <td>300.000000</td>\n",
       "      <td>201.888889</td>\n",
       "    </tr>\n",
       "  </tbody>\n",
       "</table>\n",
       "</div>"
      ],
      "text/plain": [
       "                X           Y\n",
       "count  300.000000  300.000000\n",
       "mean   150.500000  102.215556\n",
       "std     86.746758   57.842711\n",
       "min      1.000000    1.888889\n",
       "25%     75.750000   52.388889\n",
       "50%    150.500000  102.222222\n",
       "75%    225.250000  152.055556\n",
       "max    300.000000  201.888889"
      ]
     },
     "execution_count": 25,
     "metadata": {},
     "output_type": "execute_result"
    }
   ],
   "source": [
    "df.describe()"
   ]
  },
  {
   "cell_type": "code",
   "execution_count": 49,
   "metadata": {},
   "outputs": [
    {
     "name": "stdout",
     "output_type": "stream",
     "text": [
      "       X\n",
      "0      1\n",
      "1      2\n",
      "2      3\n",
      "3      4\n",
      "4      5\n",
      "..   ...\n",
      "295  296\n",
      "296  297\n",
      "297  298\n",
      "298  299\n",
      "299  300\n",
      "\n",
      "[300 rows x 1 columns]\n"
     ]
    }
   ],
   "source": [
    "X = df[['X']]\n",
    "Y = df['Y']\n",
    "print(X)"
   ]
  },
  {
   "cell_type": "code",
   "execution_count": 50,
   "metadata": {},
   "outputs": [
    {
     "name": "stdout",
     "output_type": "stream",
     "text": [
      "0        3.888889\n",
      "1        4.555556\n",
      "2        5.222222\n",
      "3        5.888889\n",
      "4        6.555556\n",
      "          ...    \n",
      "295    200.555556\n",
      "296    201.222222\n",
      "297    201.888889\n",
      "298      1.888889\n",
      "299      1.888889\n",
      "Name: Y, Length: 300, dtype: float64\n"
     ]
    }
   ],
   "source": [
    "print(Y)"
   ]
  },
  {
   "cell_type": "code",
   "execution_count": 51,
   "metadata": {},
   "outputs": [
    {
     "name": "stdout",
     "output_type": "stream",
     "text": [
      "(300, 1)\n",
      "(300,)\n"
     ]
    }
   ],
   "source": [
    "print(X.shape)\n",
    "print(Y.shape)"
   ]
  },
  {
   "cell_type": "code",
   "execution_count": 52,
   "metadata": {},
   "outputs": [
    {
     "data": {
      "image/png": "[encoded data removed]",
      "text/plain": [
       "<Figure size 1000x600 with 1 Axes>"
      ]
     },
     "metadata": {},
     "output_type": "display_data"
    }
   ],
   "source": [
    "sns.set(style='whitegrid')\n",
    "\n",
    "plt.figure(figsize = (10, 6))\n",
    "plt.scatter(df['X'], df['Y'])\n",
    "plt.title('Diagrama de dispersie a lui X vs Y')\n",
    "plt.xlabel('X')\n",
    "plt.ylabel('Y')\n",
    "\n",
    "plt.show()"
   ]
  },
  {
   "cell_type": "code",
   "execution_count": 53,
   "metadata": {},
   "outputs": [
    {
     "name": "stdout",
     "output_type": "stream",
     "text": [
      "[[-1.7262869 ]\n",
      " [-1.71473983]\n",
      " [-1.70319276]\n",
      " [-1.69164569]\n",
      " [-1.68009862]\n",
      " [-1.66855155]\n",
      " [-1.65700448]\n",
      " [-1.64545741]\n",
      " [-1.63391034]\n",
      " [-1.62236327]\n",
      " [-1.6108162 ]\n",
      " [-1.59926913]\n",
      " [-1.58772206]\n",
      " [-1.57617499]\n",
      " [-1.56462792]\n",
      " [-1.55308085]\n",
      " [-1.54153378]\n",
      " [-1.52998671]\n",
      " [-1.51843964]\n",
      " [-1.50689257]\n",
      " [-1.4953455 ]\n",
      " [-1.48379844]\n",
      " [-1.47225137]\n",
      " [-1.4607043 ]\n",
      " [-1.44915723]\n",
      " [-1.43761016]\n",
      " [-1.42606309]\n",
      " [-1.41451602]\n",
      " [-1.40296895]\n",
      " [-1.39142188]\n",
      " [-1.37987481]\n",
      " [-1.36832774]\n",
      " [-1.35678067]\n",
      " [-1.3452336 ]\n",
      " [-1.33368653]\n",
      " [-1.32213946]\n",
      " [-1.31059239]\n",
      " [-1.29904532]\n",
      " [-1.28749825]\n",
      " [-1.27595118]\n",
      " [-1.26440411]\n",
      " [-1.25285704]\n",
      " [-1.24130997]\n",
      " [-1.22976291]\n",
      " [-1.21821584]\n",
      " [-1.20666877]\n",
      " [-1.1951217 ]\n",
      " [-1.18357463]\n",
      " [-1.17202756]\n",
      " [-1.16048049]\n",
      " [-1.14893342]\n",
      " [-1.13738635]\n",
      " [-1.12583928]\n",
      " [-1.11429221]\n",
      " [-1.10274514]\n",
      " [-1.09119807]\n",
      " [-1.079651  ]\n",
      " [-1.06810393]\n",
      " [-1.05655686]\n",
      " [-1.04500979]\n",
      " [-1.03346272]\n",
      " [-1.02191565]\n",
      " [-1.01036858]\n",
      " [-0.99882151]\n",
      " [-0.98727445]\n",
      " [-0.97572738]\n",
      " [-0.96418031]\n",
      " [-0.95263324]\n",
      " [-0.94108617]\n",
      " [-0.9295391 ]\n",
      " [-0.91799203]\n",
      " [-0.90644496]\n",
      " [-0.89489789]\n",
      " [-0.88335082]\n",
      " [-0.87180375]\n",
      " [-0.86025668]\n",
      " [-0.84870961]\n",
      " [-0.83716254]\n",
      " [-0.82561547]\n",
      " [-0.8140684 ]\n",
      " [-0.80252133]\n",
      " [-0.79097426]\n",
      " [-0.77942719]\n",
      " [-0.76788012]\n",
      " [-0.75633305]\n",
      " [-0.74478598]\n",
      " [-0.73323892]\n",
      " [-0.72169185]\n",
      " [-0.71014478]\n",
      " [-0.69859771]\n",
      " [-0.68705064]\n",
      " [-0.67550357]\n",
      " [-0.6639565 ]\n",
      " [-0.65240943]\n",
      " [-0.64086236]\n",
      " [-0.62931529]\n",
      " [-0.61776822]\n",
      " [-0.60622115]\n",
      " [-0.59467408]\n",
      " [-0.58312701]\n",
      " [-0.57157994]\n",
      " [-0.56003287]\n",
      " [-0.5484858 ]\n",
      " [-0.53693873]\n",
      " [-0.52539166]\n",
      " [-0.51384459]\n",
      " [-0.50229752]\n",
      " [-0.49075046]\n",
      " [-0.47920339]\n",
      " [-0.46765632]\n",
      " [-0.45610925]\n",
      " [-0.44456218]\n",
      " [-0.43301511]\n",
      " [-0.42146804]\n",
      " [-0.40992097]\n",
      " [-0.3983739 ]\n",
      " [-0.38682683]\n",
      " [-0.37527976]\n",
      " [-0.36373269]\n",
      " [-0.35218562]\n",
      " [-0.34063855]\n",
      " [-0.32909148]\n",
      " [-0.31754441]\n",
      " [-0.30599734]\n",
      " [-0.29445027]\n",
      " [-0.2829032 ]\n",
      " [-0.27135613]\n",
      " [-0.25980906]\n",
      " [-0.24826199]\n",
      " [-0.23671493]\n",
      " [-0.22516786]\n",
      " [-0.21362079]\n",
      " [-0.20207372]\n",
      " [-0.19052665]\n",
      " [-0.17897958]\n",
      " [-0.16743251]\n",
      " [-0.15588544]\n",
      " [-0.14433837]\n",
      " [-0.1327913 ]\n",
      " [-0.12124423]\n",
      " [-0.10969716]\n",
      " [-0.09815009]\n",
      " [-0.08660302]\n",
      " [-0.07505595]\n",
      " [-0.06350888]\n",
      " [-0.05196181]\n",
      " [-0.04041474]\n",
      " [-0.02886767]\n",
      " [-0.0173206 ]\n",
      " [-0.00577353]\n",
      " [ 0.00577353]\n",
      " [ 0.0173206 ]\n",
      " [ 0.02886767]\n",
      " [ 0.04041474]\n",
      " [ 0.05196181]\n",
      " [ 0.06350888]\n",
      " [ 0.07505595]\n",
      " [ 0.08660302]\n",
      " [ 0.09815009]\n",
      " [ 0.10969716]\n",
      " [ 0.12124423]\n",
      " [ 0.1327913 ]\n",
      " [ 0.14433837]\n",
      " [ 0.15588544]\n",
      " [ 0.16743251]\n",
      " [ 0.17897958]\n",
      " [ 0.19052665]\n",
      " [ 0.20207372]\n",
      " [ 0.21362079]\n",
      " [ 0.22516786]\n",
      " [ 0.23671493]\n",
      " [ 0.24826199]\n",
      " [ 0.25980906]\n",
      " [ 0.27135613]\n",
      " [ 0.2829032 ]\n",
      " [ 0.29445027]\n",
      " [ 0.30599734]\n",
      " [ 0.31754441]\n",
      " [ 0.32909148]\n",
      " [ 0.34063855]\n",
      " [ 0.35218562]\n",
      " [ 0.36373269]\n",
      " [ 0.37527976]\n",
      " [ 0.38682683]\n",
      " [ 0.3983739 ]\n",
      " [ 0.40992097]\n",
      " [ 0.42146804]\n",
      " [ 0.43301511]\n",
      " [ 0.44456218]\n",
      " [ 0.45610925]\n",
      " [ 0.46765632]\n",
      " [ 0.47920339]\n",
      " [ 0.49075046]\n",
      " [ 0.50229752]\n",
      " [ 0.51384459]\n",
      " [ 0.52539166]\n",
      " [ 0.53693873]\n",
      " [ 0.5484858 ]\n",
      " [ 0.56003287]\n",
      " [ 0.57157994]\n",
      " [ 0.58312701]\n",
      " [ 0.59467408]\n",
      " [ 0.60622115]\n",
      " [ 0.61776822]\n",
      " [ 0.62931529]\n",
      " [ 0.64086236]\n",
      " [ 0.65240943]\n",
      " [ 0.6639565 ]\n",
      " [ 0.67550357]\n",
      " [ 0.68705064]\n",
      " [ 0.69859771]\n",
      " [ 0.71014478]\n",
      " [ 0.72169185]\n",
      " [ 0.73323892]\n",
      " [ 0.74478598]\n",
      " [ 0.75633305]\n",
      " [ 0.76788012]\n",
      " [ 0.77942719]\n",
      " [ 0.79097426]\n",
      " [ 0.80252133]\n",
      " [ 0.8140684 ]\n",
      " [ 0.82561547]\n",
      " [ 0.83716254]\n",
      " [ 0.84870961]\n",
      " [ 0.86025668]\n",
      " [ 0.87180375]\n",
      " [ 0.88335082]\n",
      " [ 0.89489789]\n",
      " [ 0.90644496]\n",
      " [ 0.91799203]\n",
      " [ 0.9295391 ]\n",
      " [ 0.94108617]\n",
      " [ 0.95263324]\n",
      " [ 0.96418031]\n",
      " [ 0.97572738]\n",
      " [ 0.98727445]\n",
      " [ 0.99882151]\n",
      " [ 1.01036858]\n",
      " [ 1.02191565]\n",
      " [ 1.03346272]\n",
      " [ 1.04500979]\n",
      " [ 1.05655686]\n",
      " [ 1.06810393]\n",
      " [ 1.079651  ]\n",
      " [ 1.09119807]\n",
      " [ 1.10274514]\n",
      " [ 1.11429221]\n",
      " [ 1.12583928]\n",
      " [ 1.13738635]\n",
      " [ 1.14893342]\n",
      " [ 1.16048049]\n",
      " [ 1.17202756]\n",
      " [ 1.18357463]\n",
      " [ 1.1951217 ]\n",
      " [ 1.20666877]\n",
      " [ 1.21821584]\n",
      " [ 1.22976291]\n",
      " [ 1.24130997]\n",
      " [ 1.25285704]\n",
      " [ 1.26440411]\n",
      " [ 1.27595118]\n",
      " [ 1.28749825]\n",
      " [ 1.29904532]\n",
      " [ 1.31059239]\n",
      " [ 1.32213946]\n",
      " [ 1.33368653]\n",
      " [ 1.3452336 ]\n",
      " [ 1.35678067]\n",
      " [ 1.36832774]\n",
      " [ 1.37987481]\n",
      " [ 1.39142188]\n",
      " [ 1.40296895]\n",
      " [ 1.41451602]\n",
      " [ 1.42606309]\n",
      " [ 1.43761016]\n",
      " [ 1.44915723]\n",
      " [ 1.4607043 ]\n",
      " [ 1.47225137]\n",
      " [ 1.48379844]\n",
      " [ 1.4953455 ]\n",
      " [ 1.50689257]\n",
      " [ 1.51843964]\n",
      " [ 1.52998671]\n",
      " [ 1.54153378]\n",
      " [ 1.55308085]\n",
      " [ 1.56462792]\n",
      " [ 1.57617499]\n",
      " [ 1.58772206]\n",
      " [ 1.59926913]\n",
      " [ 1.6108162 ]\n",
      " [ 1.62236327]\n",
      " [ 1.63391034]\n",
      " [ 1.64545741]\n",
      " [ 1.65700448]\n",
      " [ 1.66855155]\n",
      " [ 1.68009862]\n",
      " [ 1.69164569]\n",
      " [ 1.70319276]\n",
      " [ 1.71473983]\n",
      " [ 1.7262869 ]]\n"
     ]
    }
   ],
   "source": [
    "from sklearn.preprocessing import StandardScaler\n",
    "scaler = StandardScaler()\n",
    "X_scalat = scaler.fit_transform(X)\n",
    "print(X_scalat)"
   ]
  },
  {
   "cell_type": "code",
   "execution_count": 54,
   "metadata": {},
   "outputs": [],
   "source": [
    "from sklearn.model_selection import train_test_split\n",
    "\n",
    "X_train, X_test, y_train, y_test = train_test_split(X_scalat, Y, test_size = 0.2, random_state = 42)"
   ]
  },
  {
   "cell_type": "code",
   "execution_count": 55,
   "metadata": {},
   "outputs": [
    {
     "data": {
      "text/plain": [
       "(240, 1)"
      ]
     },
     "execution_count": 55,
     "metadata": {},
     "output_type": "execute_result"
    }
   ],
   "source": [
    "X_train.shape"
   ]
  },
  {
   "cell_type": "code",
   "execution_count": 56,
   "metadata": {},
   "outputs": [
    {
     "data": {
      "text/plain": [
       "(60,)"
      ]
     },
     "execution_count": 56,
     "metadata": {},
     "output_type": "execute_result"
    }
   ],
   "source": [
    "X_test.shape\n",
    "y_test.shape"
   ]
  },
  {
   "cell_type": "code",
   "execution_count": 57,
   "metadata": {},
   "outputs": [
    {
     "name": "stdout",
     "output_type": "stream",
     "text": [
      "Mean absolute error: 2.829319661760929\n",
      "Mean Squared error: 11.55430485722142\n",
      "R2 score: 0.9966137419987549\n"
     ]
    }
   ],
   "source": [
    "from sklearn.metrics import mean_absolute_error, mean_squared_error, r2_score\n",
    "from sklearn.linear_model import LinearRegression\n",
    "\n",
    "lm = LinearRegression()\n",
    "lm.fit(X_train, y_train)\n",
    "\n",
    "y_predict = lm.predict(X_test)\n",
    "\n",
    "mae = mean_absolute_error(y_test, y_predict)\n",
    "mse = mean_squared_error(y_test, y_predict)\n",
    "r2 = r2_score(y_test, y_predict)\n",
    "\n",
    "print(f'Mean absolute error: {mae}')\n",
    "print(f'Mean Squared error: {mse}')\n",
    "print(f'R2 score: {r2}')"
   ]
  },
  {
   "cell_type": "code",
   "execution_count": null,
   "metadata": {},
   "outputs": [],
   "source": []
  },
  {
   "cell_type": "code",
   "execution_count": 68,
   "metadata": {},
   "outputs": [
    {
     "data": {
      "image/png": "[encoded data removed]",
      "text/plain": [
       "<Figure size 1400x800 with 1 Axes>"
      ]
     },
     "metadata": {},
     "output_type": "display_data"
    }
   ],
   "source": [
    "\n",
    "plt.figure(figsize=(14,8))\n",
    "plt.scatter(X_test, y_test, label = 'Data Normala', color = 'blue', alpha = 0.5)\n",
    "plt.plot(X_test, y_predict, label = 'Regresie Liniara', color = 'red', linewidth = 2)\n",
    "plt.xlabel('X')\n",
    "plt.ylabel('Y')\n",
    "plt.legend()\n",
    "plt.title('Model de Regresie Liniara')\n",
    "\n",
    "plt.show()"
   ]
  }
 ],
 "metadata": {
  "kernelspec": {
   "display_name": "Python 3",
   "language": "python",
   "name": "python3"
  },
  "language_info": {
   "codemirror_mode": {
    "name": "ipython",
    "version": 3
   },
   "file_extension": ".py",
   "mimetype": "text/x-python",
   "name": "python",
   "nbconvert_exporter": "python",
   "pygments_lexer": "ipython3",
   "version": "3.10.12"
  }
 },
 "nbformat": 4,
 "nbformat_minor": 2
}
